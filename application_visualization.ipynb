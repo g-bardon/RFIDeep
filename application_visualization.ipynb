{
 "cells": [
  {
   "cell_type": "code",
   "execution_count": null,
   "id": "14e0478d-f07e-4cff-aa91-381fc679cc12",
   "metadata": {},
   "outputs": [],
   "source": [
    "import pandas as pd\n",
    "import numpy as np"
   ]
  },
  {
   "cell_type": "code",
   "execution_count": null,
   "id": "ce2fe9b3-e6ad-4983-a4ae-1ff08fcd83c8",
   "metadata": {},
   "outputs": [],
   "source": [
    "merged_df = pd.read_csv(\"input_data_sample/merged_data_sample.csv\", sep=\",\")\n",
    "merged_df['date'] = pd.to_datetime(merged_df['date'], format=\"%Y-%m-%d %H:%M:%S\")"
   ]
  },
  {
   "cell_type": "code",
   "execution_count": null,
   "id": "c7d00675-e895-40cc-8001-3312584721a6",
   "metadata": {},
   "outputs": [
    {
     "name": "stdout",
     "output_type": "stream",
     "text": [
      "                          rfid  antenna                date  year\n",
      "0      R 0000 0000000072520688        1 2000-11-24 06:04:52  2000\n",
      "1      R 0000 0000000072520688        1 2000-11-24 06:04:52  2001\n",
      "2      R 0000 0000000072520688        1 2000-11-24 06:27:42  2000\n",
      "3      R 0000 0000000072520688        1 2000-11-24 06:27:42  2001\n",
      "4      R 0000 0000000072520688        0 2000-11-24 06:32:46  2000\n",
      "...                        ...      ...                 ...   ...\n",
      "22610  R 0000 0000000072520790        1 2022-01-24 03:25:49  2021\n",
      "22611  R 0000 0000000072520790        0 2022-01-24 03:26:04  2022\n",
      "22612  R 0000 0000000072520790        0 2022-01-24 03:26:04  2021\n",
      "22613  R 0000 0000000072520790        1 2022-02-11 17:10:23  2022\n",
      "22614  R 0000 0000000072520790        1 2022-02-11 17:10:28  2022\n",
      "\n",
      "[22615 rows x 4 columns]\n"
     ]
    }
   ],
   "source": [
    "print(merged_df)"
   ]
  },
  {
   "cell_type": "code",
   "execution_count": null,
   "id": "80456e53-542d-4fdd-9d08-be1c8ccdf50e",
   "metadata": {
    "tags": []
   },
   "outputs": [
    {
     "name": "stdout",
     "output_type": "stream",
     "text": [
      "1998\n",
      "1999\n",
      "2000\n",
      "2001\n",
      "2002\n",
      "2003\n",
      "2004\n",
      "2005\n",
      "2006\n",
      "2007\n",
      "2008\n",
      "2009\n",
      "2010\n",
      "2011\n",
      "2012\n",
      "2013\n",
      "2014\n",
      "2015\n",
      "2016\n",
      "2017\n",
      "2018\n",
      "2019\n",
      "2020\n",
      "2021\n"
     ]
    }
   ],
   "source": [
    "import datetime\n",
    "from datetime import timedelta\n",
    "\n",
    "out = []\n",
    "out2 = pd.DataFrame()\n",
    "out3 = []\n",
    "for start_year in range(1998, 2022):\n",
    "    print(start_year)\n",
    "    start_date = datetime.datetime(year=start_year-1, month=9, day=30)\n",
    "    end_date = start_date + timedelta(days=487)\n",
    "    dRange = pd.date_range(start=start_date, end=end_date, freq=\"12H\")\n",
    "    # perform the grid search on time/rfid values\n",
    "    values = merged_df[merged_df[\"year\"] == start_year].groupby([pd.Grouper(key=\"date\", freq=\"12H\"), \"rfid\"])[\"antenna\"].last().unstack().reindex(dRange).fillna(method=\"ffill\").fillna(False).astype(int).values\n",
    "    values_detect_number = merged_df[merged_df[\"year\"] == start_year].groupby([pd.Grouper(key=\"date\", freq=\"12H\"), \"rfid\"])[\"antenna\"].size().unstack().reindex(dRange).fillna(value=0).astype(int).values\n",
    "    rfid_year = merged_df[merged_df[\"year\"] == start_year][[\"rfid\",\"year\"]]\n",
    "    # look for the corresponding breeding labels for this season\n",
    "    out.extend(values.T)\n",
    "    out3.extend(values_detect_number.T)\n",
    "    if not rfid_year.empty:\n",
    "        out2 = pd.concat([out2, pd.DataFrame(rfid_year.drop_duplicates())])\n",
    "        \n",
    "final_value = [[0] for x in range(len(out))]\n",
    "val = [[0,0] for x in range(975)]\n",
    "for i in range(len(out)):\n",
    "    for j in range(975):\n",
    "        val[j] = [out[i][j],out3[i][j]]\n",
    "    final_value[i]= np.array(val)"
   ]
  },
  {
   "cell_type": "code",
   "execution_count": null,
   "id": "12717f06-db28-4b42-91ee-77ebcf9c37c8",
   "metadata": {},
   "outputs": [],
   "source": [
    "from tensorflow import keras\n",
    "model_NB_B = keras.models.load_model(\"models/model_determination_B_NB\")\n",
    "model_S_F = keras.models.load_model('models/model_determination_S_F')\n",
    "model_M_F = keras.models.load_model('models/model_determination_M_F')\n",
    "model_date_males = keras.models.load_model('models/determination_date_M')\n",
    "model_date_females = keras.models.load_model('models/determination_date_F')"
   ]
  },
  {
   "cell_type": "code",
   "execution_count": null,
   "id": "2b68fb47-3172-4ee4-b174-bcee1bf41b58",
   "metadata": {},
   "outputs": [],
   "source": [
    "prediction_NB_B = np.argmax(model_NB_B.predict(np.array(final_value)), axis=-1)\n",
    "prediction_S_F = np.argmax(model_S_F.predict(np.array(final_value)), axis=-1)"
   ]
  },
  {
   "cell_type": "code",
   "execution_count": null,
   "id": "0b123e6d-c0c8-4d3f-a640-6d6f18f06c38",
   "metadata": {
    "tags": []
   },
   "outputs": [],
   "source": [
    "values = final_value\n",
    "rfid_year_list = out2\n",
    "data = pd.DataFrame({'rfid': rfid_year_list[\"rfid\"], 'year': rfid_year_list[\"year\"], 'pred_NB_B': prediction_NB_B, 'pred_S_F': prediction_S_F})\n",
    "data.reset_index(inplace=True, drop=True)\n",
    "\n",
    "data['pred_NB_B'] = data['pred_NB_B'].replace(0, \"NB\")\n",
    "data['pred_NB_B'] = data['pred_NB_B'].replace(1, \"B\")\n",
    "\n",
    "data['pred_S_F'] = data['pred_S_F'].replace(0, \"F\")\n",
    "data['pred_S_F'] = data['pred_S_F'].replace(1, \"S\")"
   ]
  },
  {
   "cell_type": "code",
   "execution_count": null,
   "id": "e20ad193-54c2-4a74-bb42-6761737c8e3e",
   "metadata": {},
   "outputs": [],
   "source": [
    "final_value_425 = []\n",
    "for i in final_value:\n",
    "    final_value_425.append(i[0:425])\n",
    "prediction_M_F = model_M_F.predict(np.array(final_value_425))"
   ]
  },
  {
   "cell_type": "code",
   "execution_count": null,
   "id": "ce8a03f5-b55f-45a9-9d41-10d58ab37036",
   "metadata": {},
   "outputs": [],
   "source": [
    "sex_list = []\n",
    "for i in (data[\"rfid\"]):\n",
    "    data_temp = data.loc[data[\"rfid\"] == i]\n",
    "    index_B = data_temp.loc[data_temp[\"pred_NB_B\"] == \"B\"].index\n",
    "    if len(index_B) > 0:\n",
    "        if np.sum(prediction_M_F[index_B], axis=0)[0] > np.sum(prediction_M_F[index_B], axis=0)[1]:\n",
    "            sex_list.append(\"F\")\n",
    "        else:\n",
    "            sex_list.append(\"M\")\n",
    "    else:\n",
    "        sex_list.append(\"I\")\n",
    "data[\"pred_M_F\"] = sex_list"
   ]
  },
  {
   "cell_type": "code",
   "execution_count": 22,
   "id": "51985dbe-cca4-489f-b944-807c3ceacc83",
   "metadata": {},
   "outputs": [],
   "source": [
    "import matplotlib.pyplot as plt\n",
    "\n",
    "data_M = []\n",
    "data_F = []\n",
    "\n",
    "loc_vect = np.array(out)\n",
    "n_detect_vect = np.array(out3)\n",
    "\n",
    "for ind in range(len(data)):\n",
    "    temp_cert_list = []\n",
    "    temp_cert_list_date = []\n",
    "    year = data.iloc[ind][\"year\"]\n",
    "    vector_loc = loc_vect[ind]\n",
    "    vector_detect = n_detect_vect[ind]\n",
    "    vector_compiled = [[0] for x in range(60,351)]\n",
    "    for i in range(60,351):  #before 397\n",
    "        value_temp = vector_loc[i-60:i+150]\n",
    "        value_temp_detect = vector_detect[i-60:i+150]\n",
    "        vector_compiled[i-60]= list(zip(value_temp, value_temp_detect)) \n",
    "    \n",
    "    temp_cert_date_M = model_date_males.predict(np.array(vector_compiled))\n",
    "    temp_cert_date_F = model_date_females.predict(np.array(vector_compiled))\n",
    "\n",
    "    M=[x[0] for x in temp_cert_date_M]\n",
    "    F=[x[0] for x in temp_cert_date_F]\n",
    "\n",
    "    start_date = datetime.datetime(year=int(year-1), month=10, day=15)\n",
    "    end_date = start_date + timedelta(days=160)\n",
    "    dRange = pd.date_range(start=start_date, end=end_date, freq=\"12H\")\n",
    "    data_M.append([max(M), dRange[np.argmax(M)]])\n",
    "    data_F.append([max(F), dRange[np.argmax(F)]])\n"
   ]
  },
  {
   "cell_type": "code",
   "execution_count": 23,
   "id": "54c5093c-93ca-48d0-9ef5-8d3f98f709b1",
   "metadata": {},
   "outputs": [],
   "source": [
    "pred_date = []\n",
    "for i in range(len(data)):\n",
    "    if data.iloc[i][\"pred_M_F\"] == \"M\":\n",
    "        pred_date.append(data_M[i][1])\n",
    "    elif data.iloc[i][\"pred_M_F\"] == \"F\":\n",
    "        pred_date.append(data_F[i][1])\n",
    "    else:\n",
    "        pred_date.append(\"NA\") # Non-breeder -> no breeding date\n",
    "data[\"breeding_date\"] = pred_date"
   ]
  },
  {
   "cell_type": "code",
   "execution_count": 24,
   "id": "8fd3eba1-dcd3-4019-a497-3cd75cd9789d",
   "metadata": {
    "tags": []
   },
   "outputs": [
    {
     "name": "stdout",
     "output_type": "stream",
     "text": [
      "                       rfid  year pred_NB_B pred_S_F pred_M_F  \\\n",
      "0   R 0000 0000000072520688  2000        NB        F        M   \n",
      "1   R 0000 0000000072520693  2000        NB        F        M   \n",
      "2   R 0000 0000000072520723  2000        NB        F        M   \n",
      "3   R 0000 0000000072520790  2000        NB        S        M   \n",
      "4   R 0000 0000000072520688  2001        NB        F        M   \n",
      "..                      ...   ...       ...      ...      ...   \n",
      "83  R 0000 0000000072520790  2020         B        F        M   \n",
      "84  R 0000 0000000072520688  2021         B        S        M   \n",
      "85  R 0000 0000000072520693  2021         B        F        M   \n",
      "86  R 0000 0000000072520723  2021         B        F        M   \n",
      "87  R 0000 0000000072520790  2021         B        S        M   \n",
      "\n",
      "         breeding_date  \n",
      "0  1999-10-15 00:00:00  \n",
      "1  1999-10-15 00:00:00  \n",
      "2  1999-10-15 00:00:00  \n",
      "3  1999-10-15 00:00:00  \n",
      "4  2000-11-13 12:00:00  \n",
      "..                 ...  \n",
      "83 2019-12-16 00:00:00  \n",
      "84 2020-10-21 00:00:00  \n",
      "85 2020-12-01 00:00:00  \n",
      "86 2020-12-14 00:00:00  \n",
      "87 2020-10-20 00:00:00  \n",
      "\n",
      "[88 rows x 6 columns]\n"
     ]
    }
   ],
   "source": [
    "print(data)"
   ]
  },
  {
   "cell_type": "code",
   "execution_count": 26,
   "id": "9dda19a8-d4b8-4af0-b4eb-8ce76f4a41e2",
   "metadata": {},
   "outputs": [
    {
     "data": {
      "text/plain": [
       "[<matplotlib.lines.Line2D at 0x23758bd8310>]"
      ]
     },
     "execution_count": 26,
     "metadata": {},
     "output_type": "execute_result"
    },
    {
     "data": {
      "image/png": "[encoded data removed]",
      "text/plain": [
       "<Figure size 640x480 with 1 Axes>"
      ]
     },
     "metadata": {},
     "output_type": "display_data"
    }
   ],
   "source": [
    "# To plot certainty curve giving the breeding date\n",
    "\n",
    "import matplotlib.pyplot as plt\n",
    "\n",
    "ind_index = 27\n",
    "loc_vect = np.array(out)\n",
    "n_detect_vect = np.array(out3)\n",
    "\n",
    "year = data.iloc[ind_index][\"year\"]\n",
    "vector_loc = loc_vect[ind_index]\n",
    "vector_detect = n_detect_vect[ind_index]\n",
    "    \n",
    "vector_compiled = [[0] for x in range(60,351)]\n",
    "for i in range(60,351):  #before 397\n",
    "    value_temp = vector_loc[i-60:i+150]\n",
    "    value_temp_detect = vector_detect[i-60:i+150]\n",
    "    vector_compiled[i-60]= list(zip(value_temp, value_temp_detect)) \n",
    "\n",
    "temp_cert_date_M = model_date_males.predict(np.array(vector_compiled))\n",
    "temp_cert_date_F = model_date_females.predict(np.array(vector_compiled))\n",
    "\n",
    "M=[]\n",
    "F=[]\n",
    "\n",
    "for i in range(len(temp_cert_date_M)):\n",
    "    M.append(temp_cert_date_M[i][0])\n",
    "    F.append(temp_cert_date_F[i][0])\n",
    "\n",
    "start_date = datetime.datetime(year=int(year-1), month=10, day=30)\n",
    "end_date = start_date + timedelta(days=145)\n",
    "dRange = pd.date_range(start=start_date, end=end_date, freq=\"12H\")\n",
    "\n",
    "plt.plot(dRange, M)\n",
    "plt.plot(dRange, F)"
   ]
  },
  {
   "cell_type": "code",
   "execution_count": 27,
   "id": "cf73dbf0-5fdf-4145-85d0-5475d4cb2af6",
   "metadata": {
    "tags": []
   },
   "outputs": [],
   "source": [
    "## Example of activation map visualization for successful vs failing breeding\n",
    "\n",
    "import tensorflow as tf\n",
    "import matplotlib.pyplot as plt\n",
    "from tf_keras_vis.utils.model_modifiers import ReplaceToLinear\n",
    "from tf_keras_vis.gradcam import Gradcam\n",
    "from tf_keras_vis.utils.scores import CategoricalScore\n",
    "replace2linear = ReplaceToLinear()\n",
    "\n",
    "gradcam_S_F = Gradcam(model_S_F,\n",
    "                  model_modifier=replace2linear,\n",
    "                  clone=True)\n",
    "\n",
    "index_rfid_year = 27\n",
    "vector = final_value[index_rfid_year]\n",
    "val = tf.expand_dims(np.array(vector).astype(np.float32), axis=0)\n",
    "score = CategoricalScore([1])\n",
    "gradcam_map_S_F = gradcam_S_F(score, val, penultimate_layer=-1)"
   ]
  },
  {
   "cell_type": "code",
   "execution_count": 31,
   "id": "3c59e106-f75f-4e17-b815-5f75dfdb3707",
   "metadata": {},
   "outputs": [
    {
     "data": {
      "image/png": "[encoded data removed]",
      "text/plain": [
       "<Figure size 2000x1000 with 1 Axes>"
      ]
     },
     "metadata": {},
     "output_type": "display_data"
    }
   ],
   "source": [
    "x=[]\n",
    "for i in(vector):\n",
    "    x.append(i[0])\n",
    "start_date = datetime.datetime(year=int(data.iloc[index_rfid_year][\"year\"]), month=10, day=1)\n",
    "end_date = start_date + timedelta(days=487)\n",
    "dRange = pd.date_range(start=start_date, end=end_date, freq=\"12H\")\n",
    "\n",
    "fig, ax = plt.subplots(figsize = (20,10))\n",
    "ax.imshow([x]*20,cmap='binary',interpolation='none', extent=[0, 975, -20, 0])\n",
    "xlab = [0,186,368,550,734,918] \n",
    "ax.set_xticks(xlab)\n",
    "ax.set_xticklabels([dRange.date[i] for i in xlab])\n",
    "ax.axes.get_yaxis().set_visible(False)\n",
    "ax.plot(gradcam_map_S_F[0]*50)\n",
    "fig.savefig('cyclemap_success.png', dpi = 300)"
   ]
  },
  {
   "cell_type": "code",
   "execution_count": 32,
   "id": "a08efa6f-2411-41f9-805d-3da5cc89b0f0",
   "metadata": {
    "tags": []
   },
   "outputs": [],
   "source": [
    "gradcam_NB_B = Gradcam(model_NB_B,\n",
    "                  model_modifier=replace2linear,\n",
    "                  clone=True)\n",
    "\n",
    "index_rfid_year = 10\n",
    "vector = final_value[index_rfid_year]\n",
    "\n",
    "val = tf.expand_dims(np.array(vector).astype(np.float32), axis=0)\n",
    "score = CategoricalScore([1])\n",
    "gradcam_map_NB_B = gradcam_NB_B(score, val, penultimate_layer=-1)"
   ]
  },
  {
   "cell_type": "code",
   "execution_count": 33,
   "id": "957953c2-18dd-42b0-98a7-9b23beed1011",
   "metadata": {},
   "outputs": [
    {
     "data": {
      "image/png": "[encoded data removed]",
      "text/plain": [
       "<Figure size 2000x1000 with 1 Axes>"
      ]
     },
     "metadata": {},
     "output_type": "display_data"
    }
   ],
   "source": [
    "x=[]\n",
    "for i in(vector):\n",
    "    x.append(i[0])\n",
    "start_date = datetime.datetime(year=int(data.iloc[index_rfid_year][\"year\"]), month=10, day=1)\n",
    "end_date = start_date + timedelta(days=487)\n",
    "dRange = pd.date_range(start=start_date, end=end_date, freq=\"12H\")\n",
    "\n",
    "fig, ax = plt.subplots(figsize = (20,10))\n",
    "ax.imshow([x]*20,cmap='binary',interpolation='none', extent=[0, 975, -20, 0])\n",
    "xlab = [0,186,368,550,734,918] \n",
    "ax.set_xticks(xlab)\n",
    "ax.set_xticklabels([dRange.date[i] for i in xlab])\n",
    "ax.axes.get_yaxis().set_visible(False)\n",
    "ax.plot(gradcam_map_NB_B[0]*50)\n",
    "fig.savefig('cyclemap_fail.png', dpi = 300)"
   ]
  },
  {
   "cell_type": "code",
   "execution_count": null,
   "id": "1390aa7d-dc08-4c16-a3e8-0844481e8a0a",
   "metadata": {},
   "outputs": [],
   "source": []
  }
 ],
 "metadata": {
  "kernelspec": {
   "display_name": "Python 3 (ipykernel)",
   "language": "python",
   "name": "python3"
  },
  "language_info": {
   "codemirror_mode": {
    "name": "ipython",
    "version": 3
   },
   "file_extension": ".py",
   "mimetype": "text/x-python",
   "name": "python",
   "nbconvert_exporter": "python",
   "pygments_lexer": "ipython3",
   "version": "3.9.7"
  }
 },
 "nbformat": 4,
 "nbformat_minor": 5
}
