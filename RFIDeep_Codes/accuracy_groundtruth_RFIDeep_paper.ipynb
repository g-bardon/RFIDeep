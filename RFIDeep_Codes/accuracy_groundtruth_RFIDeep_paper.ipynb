{
 "cells": [
  {
   "cell_type": "code",
   "execution_count": 1,
   "id": "14e0478d-f07e-4cff-aa91-381fc679cc12",
   "metadata": {},
   "outputs": [],
   "source": [
    "import pandas as pd\n",
    "import numpy as np\n",
    "import datetime\n",
    "from datetime import timedelta\n",
    "from tensorflow import keras\n",
    "import matplotlib.pyplot as plt\n",
    "import copy\n",
    "from sklearn.metrics import confusion_matrix, f1_score\n",
    "from matplotlib.dates import DateFormatter\n",
    "from statsmodels.stats.proportion import proportion_confint\n",
    "import piecewise_regression\n",
    "from sklearn import metrics\n",
    "from numpy import sqrt, argmax"
   ]
  },
  {
   "cell_type": "code",
   "execution_count": 2,
   "id": "42dd1d0a-051f-4e0d-b5d9-2215b95066eb",
   "metadata": {},
   "outputs": [],
   "source": [
    "###Import of files\n",
    "testing_dataset = pd.read_csv(\"ground_truth_testing_dataset.csv\", sep=\",\")\n",
    "merged_df = pd.read_csv(\"detections_testing_groundtruth.csv\", sep=\",\")\n",
    "\n",
    "merged_df['date'] = pd.to_datetime(merged_df['date'], format=\"%Y-%m-%d %H:%M:%S\")"
   ]
  },
  {
   "cell_type": "code",
   "execution_count": 4,
   "id": "80456e53-542d-4fdd-9d08-be1c8ccdf50e",
   "metadata": {
    "tags": []
   },
   "outputs": [],
   "source": [
    "### Building of vectors (input of CNN models)\n",
    "\n",
    "out = []\n",
    "rfid_year_list = pd.DataFrame()\n",
    "out3 = []\n",
    "for start_year in range(2021, 2023):\n",
    "    start_date = datetime.datetime(year=start_year-1, month=9, day=1)\n",
    "    end_date = start_date + timedelta(days=517)\n",
    "    dRange = pd.date_range(start=start_date, end=end_date, freq=\"12H\")\n",
    "    # perform the grid search on time/rfid values\n",
    "    values = merged_df[merged_df[\"year\"] == start_year].groupby([pd.Grouper(key=\"date\", freq=\"12H\"), \"rfid\"])[\"antenna\"].last().unstack().reindex(dRange).fillna(method=\"ffill\").fillna(False).astype(int).values\n",
    "    values_detect_number = merged_df[merged_df[\"year\"] == start_year].groupby([pd.Grouper(key=\"date\", freq=\"12H\"), \"rfid\"])[\"antenna\"].size().unstack().reindex(dRange).fillna(value=0).astype(int).values\n",
    "    rfid_year = merged_df[merged_df[\"year\"] == start_year][[\"rfid\",\"year\"]]\n",
    "    # look for the corresponding breeding labels for this season\n",
    "    out.extend(values.T)\n",
    "    out3.extend(values_detect_number.T)\n",
    "    if not rfid_year.empty:\n",
    "        rfid_year_list = pd.concat([rfid_year_list, pd.DataFrame(rfid_year.drop_duplicates())])\n",
    "        \n",
    "final_value = [[0] for x in range(len(out))]\n",
    "val = [[0,0] for x in range(975)]\n",
    "for i in range(len(out)):\n",
    "    for j in range(0,975):\n",
    "        val[j] = [out[i][j+58],out3[i][j+58]]\n",
    "    final_value[i]= np.array(val)\n",
    "    \n",
    "### Smaller vectors for determination of the sex    \n",
    "final_value_425 = [i[0:425] for i in final_value]"
   ]
  },
  {
   "cell_type": "code",
   "execution_count": 5,
   "id": "12717f06-db28-4b42-91ee-77ebcf9c37c8",
   "metadata": {},
   "outputs": [],
   "source": [
    "###Import of models\n",
    "model_NB_B = keras.models.load_model('models/model_determination_B_NB')\n",
    "model_S_F = keras.models.load_model('models/model_determination_S_F')\n"
   ]
  },
  {
   "cell_type": "code",
   "execution_count": 6,
   "id": "d3bfec92-c59f-41a9-b2fd-8fcfb503bbe2",
   "metadata": {},
   "outputs": [],
   "source": [
    "### Predictions with the models\n",
    "proba_NB_B = pd.DataFrame(model_NB_B.predict(np.array(final_value)), columns=['proba_NB','proba_B'])\n",
    "prediction_NB_B = np.argmax(model_NB_B.predict(np.array(final_value)), axis=-1)\n",
    "proba_S_F = pd.DataFrame(model_S_F.predict(np.array(final_value)), columns=['proba_F','proba_S'])\n",
    "prediction_S_F = np.argmax(model_S_F.predict(np.array(final_value)), axis=-1)\n",
    "\n",
    "\n",
    "data_proba = pd.DataFrame({'rfid': rfid_year_list[\"rfid\"], 'year': rfid_year_list[\"year\"], 'pred_NB_B': prediction_NB_B, 'pred_S_F': prediction_S_F})\n",
    "data_proba.reset_index(inplace=True, drop=True)\n",
    "data_proba = pd.merge(data_proba, proba_NB_B, left_index=True, right_index=True)\n",
    "data_proba = pd.merge(data_proba, proba_S_F, left_index=True, right_index=True)\n",
    "\n",
    "data_proba['pred_NB_B'] = data_proba['pred_NB_B'].replace(0, \"NB\")\n",
    "data_proba['pred_NB_B'] = data_proba['pred_NB_B'].replace(1, \"B\")\n",
    "\n",
    "data_proba['pred_S_F'] = data_proba['pred_S_F'].replace(0, \"F\")\n",
    "data_proba['pred_S_F'] = data_proba['pred_S_F'].replace(1, \"S\")\n",
    "\n",
    "pred_outcome = []\n",
    "for i in range(len(data_proba)):\n",
    "    if data_proba.iloc[i][\"pred_NB_B\"] == \"B\":\n",
    "        pred_outcome.append(data_proba.iloc[i][\"pred_S_F\"])\n",
    "    else:\n",
    "        pred_outcome.append(\"NB\")\n",
    "data_proba[\"pred_outcome\"] = pred_outcome"
   ]
  },
  {
   "cell_type": "code",
   "execution_count": 7,
   "id": "4d96187c-9c34-4715-bdbd-0078d190be6f",
   "metadata": {},
   "outputs": [
    {
     "name": "stdout",
     "output_type": "stream",
     "text": [
      "                           rfid  year pred_NB_B pred_S_F      proba_NB  \\\n",
      "0    A 00000 0 964 000000911969  2021         B        S  5.018309e-05   \n",
      "1    A 00000 0 964 000000912059  2021         B        F  1.388896e-04   \n",
      "2    A 00000 0 964 000000912067  2021         B        S  6.424905e-05   \n",
      "3    A 00000 0 964 000000912104  2021         B        S  1.951297e-05   \n",
      "4    A 00000 0 964 000000912179  2021         B        S  5.302063e-06   \n",
      "..                          ...   ...       ...      ...           ...   \n",
      "296     R 0000 0000000046627110  2022         B        S  9.699470e-07   \n",
      "297     R 0000 0000000055038569  2022         B        S  9.721343e-05   \n",
      "298     R 0000 0000000072520688  2022         B        S  5.755661e-06   \n",
      "299     R 0000 0000000072522975  2022         B        S  2.852485e-05   \n",
      "300     R 0000 0000000088472092  2022         B        S  5.754453e-06   \n",
      "\n",
      "      proba_B       proba_F   proba_S pred_outcome breeding_outcome  \n",
      "0    0.999950  2.116584e-07  1.000000            S                S  \n",
      "1    0.999861  9.999024e-01  0.000098            F                F  \n",
      "2    0.999936  2.921331e-10  1.000000            S                S  \n",
      "3    0.999980  3.740422e-07  1.000000            S                S  \n",
      "4    0.999995  1.262581e-08  1.000000            S                S  \n",
      "..        ...           ...       ...          ...              ...  \n",
      "296  0.999999  2.132212e-08  1.000000            S                S  \n",
      "297  0.999903  2.125108e-06  0.999998            S                S  \n",
      "298  0.999994  1.356120e-03  0.998644            S                S  \n",
      "299  0.999972  3.370067e-09  1.000000            S                S  \n",
      "300  0.999994  8.568071e-04  0.999143            S                S  \n",
      "\n",
      "[301 rows x 10 columns]\n"
     ]
    }
   ],
   "source": [
    "### Merge of result with the testing datasets\n",
    "\n",
    "data_proba = data_proba.merge(testing_dataset, on=['rfid','year'])\n",
    "print(data_proba)"
   ]
  },
  {
   "cell_type": "code",
   "execution_count": 8,
   "id": "73902d52-4397-40c1-a015-111286e4d595",
   "metadata": {},
   "outputs": [
    {
     "name": "stdout",
     "output_type": "stream",
     "text": [
      "[[  0   0   0]\n",
      " [  0 146   6]\n",
      " [  0   6 143]]\n"
     ]
    }
   ],
   "source": [
    "## Print of confusion matrices\n",
    "print(confusion_matrix(data_proba[\"pred_outcome\"], data_proba[\"breeding_outcome\"], labels=[\"NB\", \"F\", \"S\"]))"
   ]
  },
  {
   "cell_type": "code",
   "execution_count": 9,
   "id": "ef92a904-0781-407d-a485-659d97ff94ee",
   "metadata": {},
   "outputs": [
    {
     "data": {
      "text/plain": [
       "0"
      ]
     },
     "execution_count": 9,
     "metadata": {},
     "output_type": "execute_result"
    }
   ],
   "source": [
    "sum(data_proba[\"pred_outcome\"] == 'NB')"
   ]
  },
  {
   "cell_type": "code",
   "execution_count": 10,
   "id": "a72ec8e8-93e9-4130-9cc3-a7bc2ced18b9",
   "metadata": {},
   "outputs": [
    {
     "name": "stdout",
     "output_type": "stream",
     "text": [
      "Global accuracy for F vs. S:\n",
      "Pred. vs. Dat. 1: 0.9601328903654485\n"
     ]
    }
   ],
   "source": [
    "print('Global accuracy for F vs. S:')\n",
    "print(\"Pred. vs. Dat. 1: \" + str(sum(data_proba[\"pred_outcome\"] == data_proba[\"breeding_outcome\"])/len(data_proba)))"
   ]
  },
  {
   "cell_type": "code",
   "execution_count": 11,
   "id": "ccaed486-f314-4f31-b249-d40bb409ccbc",
   "metadata": {},
   "outputs": [
    {
     "name": "stdout",
     "output_type": "stream",
     "text": [
      "AUC scores for F vs. S: \n",
      "Pred. vs. Dat.1 AUC: 0.994878134934652\n",
      "Best Threshold=0.826009, G-Mean=0.963\n"
     ]
    },
    {
     "data": {
      "text/plain": [
       "Text(0.2, 0.2, 'Best Threshold=0.826009, AUC=0.995')"
      ]
     },
     "execution_count": 11,
     "metadata": {},
     "output_type": "execute_result"
    },
    {
     "data": {
      "image/png": "[encoded data removed]",
      "text/plain": [
       "<Figure size 640x480 with 1 Axes>"
      ]
     },
     "metadata": {},
     "output_type": "display_data"
    }
   ],
   "source": [
    "### AUC-ROC Curves for F vs. S:\n",
    "\n",
    "print(\"AUC scores for F vs. S: \")\n",
    "### Pred. vs. Dataset 1\n",
    "data_proba_SF = copy.copy(data_proba)\n",
    "\n",
    "data_proba_SF['breeding_outcome'] = data_proba_SF['breeding_outcome'].replace('F', 0)\n",
    "data_proba_SF['breeding_outcome'] = data_proba_SF['breeding_outcome'].replace('S', 1)\n",
    "\n",
    "fpr, tpr, thresholds = metrics.roc_curve(data_proba_SF['breeding_outcome'], data_proba_SF['proba_S'])\n",
    "\n",
    "auc = metrics.roc_auc_score(data_proba_SF['breeding_outcome'], data_proba_SF['proba_S'])\n",
    "print('Pred. vs. Dat.1 AUC: ' + str(auc))\n",
    "gmeans = sqrt(tpr * (1-fpr))\n",
    "ix = argmax(gmeans)\n",
    "print('Best Threshold=%f, G-Mean=%.3f' % (thresholds[ix], gmeans[ix]))\n",
    "\n",
    "#create ROC curve\n",
    "plt.plot(fpr,tpr)\n",
    "plt.ylabel('True Positive Rate', fontsize = 12)\n",
    "plt.xlabel('False Positive Rate', fontsize = 12)\n",
    "plt.title('Pred. vs. Dataset 1 \\n Success vs. Failure classification')\n",
    "plt.text(0.2, 0.2, 'Best Threshold=%f, AUC=%.3f' % (thresholds[ix], auc), fontsize = 12)\n",
    "# plt.savefig('AUC_dataset1_success.pdf', bbox_inches='tight')"
   ]
  }
 ],
 "metadata": {
  "kernelspec": {
   "display_name": "Python 3 (ipykernel)",
   "language": "python",
   "name": "python3"
  },
  "language_info": {
   "codemirror_mode": {
    "name": "ipython",
    "version": 3
   },
   "file_extension": ".py",
   "mimetype": "text/x-python",
   "name": "python",
   "nbconvert_exporter": "python",
   "pygments_lexer": "ipython3",
   "version": "3.9.7"
  }
 },
 "nbformat": 4,
 "nbformat_minor": 5
}
