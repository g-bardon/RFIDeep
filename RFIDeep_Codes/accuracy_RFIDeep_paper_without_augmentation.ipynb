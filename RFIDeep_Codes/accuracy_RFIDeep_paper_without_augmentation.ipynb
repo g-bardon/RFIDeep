{
 "cells": [
  {
   "cell_type": "code",
   "execution_count": 1,
   "id": "14e0478d-f07e-4cff-aa91-381fc679cc12",
   "metadata": {},
   "outputs": [],
   "source": [
    "import pandas as pd\n",
    "import numpy as np\n",
    "import datetime\n",
    "from datetime import timedelta\n",
    "from tensorflow import keras\n",
    "import matplotlib.pyplot as plt\n",
    "import copy\n",
    "from sklearn.metrics import confusion_matrix, f1_score\n",
    "from matplotlib.dates import DateFormatter\n",
    "from statsmodels.stats.proportion import proportion_confint\n",
    "import piecewise_regression\n",
    "from sklearn import metrics\n",
    "from numpy import sqrt, argmax"
   ]
  },
  {
   "cell_type": "code",
   "execution_count": 8,
   "id": "42dd1d0a-051f-4e0d-b5d9-2215b95066eb",
   "metadata": {},
   "outputs": [],
   "source": [
    "###Import of files\n",
    "testing_dataset1 = pd.read_csv(\"testing_dataset1.csv\", sep=\";\")\n",
    "testing_dataset2 = pd.read_csv(\"testing_dataset2.csv\", sep=\";\")\n",
    "merged_df = pd.read_csv(\"detections_testing.csv\", sep=\",\")\n",
    "\n",
    "merged_df['date'] = pd.to_datetime(merged_df['date'], format=\"%Y-%m-%d %H:%M:%S\")"
   ]
  },
  {
   "cell_type": "code",
   "execution_count": 3,
   "id": "80456e53-542d-4fdd-9d08-be1c8ccdf50e",
   "metadata": {
    "tags": []
   },
   "outputs": [],
   "source": [
    "### Building of vectors (input of CNN models)\n",
    "\n",
    "out = []\n",
    "rfid_year_list = pd.DataFrame()\n",
    "out3 = []\n",
    "for start_year in range(1998, 2022):\n",
    "    start_date = datetime.datetime(year=start_year-1, month=9, day=1)\n",
    "    end_date = start_date + timedelta(days=517)\n",
    "    dRange = pd.date_range(start=start_date, end=end_date, freq=\"12H\")\n",
    "    # perform the grid search on time/rfid values\n",
    "    values = merged_df[merged_df[\"year\"] == start_year].groupby([pd.Grouper(key=\"date\", freq=\"12H\"), \"rfid\"])[\"antenna\"].last().unstack().reindex(dRange).fillna(method=\"ffill\").fillna(False).astype(int).values\n",
    "    values_detect_number = merged_df[merged_df[\"year\"] == start_year].groupby([pd.Grouper(key=\"date\", freq=\"12H\"), \"rfid\"])[\"antenna\"].size().unstack().reindex(dRange).fillna(value=0).astype(int).values\n",
    "    rfid_year = merged_df[merged_df[\"year\"] == start_year][[\"rfid\",\"year\"]]\n",
    "    # look for the corresponding breeding labels for this season\n",
    "    out.extend(values.T)\n",
    "    out3.extend(values_detect_number.T)\n",
    "    if not rfid_year.empty:\n",
    "        rfid_year_list = pd.concat([rfid_year_list, pd.DataFrame(rfid_year.drop_duplicates())])\n",
    "        \n",
    "final_value = [[0] for x in range(len(out))]\n",
    "val = [[0,0] for x in range(975)]\n",
    "for i in range(len(out)):\n",
    "    for j in range(0,975):\n",
    "        val[j] = [out[i][j+58],out3[i][j+58]]\n",
    "    final_value[i]= np.array(val)\n",
    "    \n",
    "### Smaller vectors for determination of the sex    \n",
    "final_value_425 = [i[0:425] for i in final_value]"
   ]
  },
  {
   "cell_type": "code",
   "execution_count": 4,
   "id": "12717f06-db28-4b42-91ee-77ebcf9c37c8",
   "metadata": {},
   "outputs": [],
   "source": [
    "###Import of models\n",
    "model_M_F = keras.models.load_model('models/model_determination_M_F_without_augmentation')\n",
    "model_NB_B = keras.models.load_model('models/model_determination_B_NB_without_augmentation')\n",
    "model_S_F = keras.models.load_model('models/model_determination_S_F_without_augmentation')\n"
   ]
  },
  {
   "cell_type": "code",
   "execution_count": 9,
   "id": "d3bfec92-c59f-41a9-b2fd-8fcfb503bbe2",
   "metadata": {},
   "outputs": [],
   "source": [
    "### Predictions with the models\n",
    "proba_NB_B = pd.DataFrame(model_NB_B.predict(np.array(final_value)), columns=['proba_NB','proba_B'])\n",
    "prediction_NB_B = np.argmax(model_NB_B.predict(np.array(final_value)), axis=-1)\n",
    "proba_S_F = pd.DataFrame(model_S_F.predict(np.array(final_value)), columns=['proba_F','proba_S'])\n",
    "prediction_S_F = np.argmax(model_S_F.predict(np.array(final_value)), axis=-1)\n",
    "classif_M_F = model_M_F.predict(np.array(final_value_425))\n",
    "data_MF = pd.DataFrame(classif_M_F, columns=[\"F\", \"M\"])\n",
    "\n",
    "data_proba = pd.DataFrame({'rfid': rfid_year_list[\"rfid\"], 'year': rfid_year_list[\"year\"], 'pred_NB_B': prediction_NB_B, 'pred_S_F': prediction_S_F})\n",
    "data_proba.reset_index(inplace=True, drop=True)\n",
    "data_proba = pd.merge(data_proba, proba_NB_B, left_index=True, right_index=True)\n",
    "data_proba = pd.merge(data_proba, proba_S_F, left_index=True, right_index=True)\n",
    "\n",
    "data_proba['pred_NB_B'] = data_proba['pred_NB_B'].replace(0, \"NB\")\n",
    "data_proba['pred_NB_B'] = data_proba['pred_NB_B'].replace(1, \"B\")\n",
    "\n",
    "data_proba['pred_S_F'] = data_proba['pred_S_F'].replace(0, \"F\")\n",
    "data_proba['pred_S_F'] = data_proba['pred_S_F'].replace(1, \"S\")\n",
    "\n",
    "data_proba = data_proba.merge(data_MF, left_index=True, right_index=True)\n",
    "\n",
    "### lifetime sex determination\n",
    "data_temp_B = data_proba.loc[data_proba[\"pred_NB_B\"] == \"B\"]\n",
    "sex_list = data_temp_B.groupby('rfid').mean()[['F', 'M']]\n",
    "sex_list['pred_M_F'] = sex_list.idxmax(axis=1)\n",
    "sex_list = sex_list.drop(columns=['F', 'M'])\n",
    "data_proba = data_proba.drop(columns=['F', 'M'])\n",
    "data_proba = data_proba.merge(sex_list, on='rfid', how='left')\n",
    "data_proba['pred_M_F'] = data_proba['pred_M_F'].fillna('I')\n",
    "\n",
    "### Compilation of B vs. NB and F vs. S to have the outcomes\n",
    "pred_outcome = []\n",
    "for i in range(len(data_proba)):\n",
    "    if data_proba.iloc[i][\"pred_NB_B\"] == \"B\":\n",
    "        pred_outcome.append(data_proba.iloc[i][\"pred_S_F\"])\n",
    "    else:\n",
    "        pred_outcome.append(\"NB\")\n",
    "data_proba[\"pred_outcome\"] = pred_outcome"
   ]
  },
  {
   "cell_type": "code",
   "execution_count": 10,
   "id": "4d96187c-9c34-4715-bdbd-0078d190be6f",
   "metadata": {},
   "outputs": [
    {
     "name": "stdout",
     "output_type": "stream",
     "text": [
      "                           rfid  year pred_NB_B pred_S_F      proba_NB  \\\n",
      "0       R 0000 0000000046627082  2001        NB        F  9.999959e-01   \n",
      "1       R 0000 0000000046627082  2002        NB        S  9.998114e-01   \n",
      "2       R 0000 0000000046627110  2002        NB        S  1.000000e+00   \n",
      "3       R 0000 0000000055038113  2002         B        F  4.329582e-08   \n",
      "4       R 0000 0000000072520688  2002        NB        F  8.988630e-01   \n",
      "..                          ...   ...       ...      ...           ...   \n",
      "838  A 00000 0 964 001002875260  2020         B        S  1.815171e-08   \n",
      "839  A 00000 0 964 001002875266  2020         B        S  8.366056e-17   \n",
      "840  A 00000 0 964 001002875555  2020         B        F  1.660751e-07   \n",
      "841     R 0000 0000000088473069  2020         B        F  3.424121e-11   \n",
      "842     R 0000 0000000088473069  2021         B        F  1.140490e-02   \n",
      "\n",
      "          proba_B       proba_F       proba_S pred_M_F pred_outcome  \\\n",
      "0    4.077511e-06  9.978701e-01  2.129885e-03        F           NB   \n",
      "1    1.886803e-04  5.060818e-06  9.999950e-01        F           NB   \n",
      "2    2.166847e-08  5.805025e-03  9.941950e-01        F           NB   \n",
      "3    1.000000e+00  9.987177e-01  1.282415e-03        F            F   \n",
      "4    1.011370e-01  5.436473e-01  4.563528e-01        M           NB   \n",
      "..            ...           ...           ...      ...          ...   \n",
      "838  1.000000e+00  3.111319e-05  9.999689e-01        F            S   \n",
      "839  1.000000e+00  5.704499e-18  1.000000e+00        M            S   \n",
      "840  9.999999e-01  9.999954e-01  4.593047e-06        F            F   \n",
      "841  1.000000e+00  8.521537e-01  1.478464e-01        M            F   \n",
      "842  9.885951e-01  1.000000e+00  9.643719e-17        M            F   \n",
      "\n",
      "    dataset1_outcome dataset1_breeding_date dataset2_outcome  \\\n",
      "0                 NB             2000-11-01               NB   \n",
      "1                 NB             2001-11-23               NB   \n",
      "2                 NB             2001-11-17               NB   \n",
      "3                  F             2001-11-04                F   \n",
      "4                 NB             2000-11-29               NB   \n",
      "..               ...                    ...              ...   \n",
      "838                S             2019-11-08                S   \n",
      "839                S             2019-11-01                S   \n",
      "840                F             2019-11-16                F   \n",
      "841                F             2019-10-29                F   \n",
      "842                F             2020-11-02                F   \n",
      "\n",
      "    dataset2_breeding_date   age  \n",
      "0                      NaN   2.0  \n",
      "1                      NaN   3.0  \n",
      "2                      NaN   3.0  \n",
      "3                      NaN   NaN  \n",
      "4                      NaN   2.0  \n",
      "..                     ...   ...  \n",
      "838             2019-11-08   NaN  \n",
      "839             2019-11-01   7.0  \n",
      "840             2019-11-16   7.0  \n",
      "841             2019-10-28  19.0  \n",
      "842             2020-11-02  20.0  \n",
      "\n",
      "[843 rows x 15 columns]\n"
     ]
    }
   ],
   "source": [
    "### Merge of result with the testing datasets\n",
    "\n",
    "data_proba = data_proba.merge(testing_dataset1, left_on=['rfid','year'], right_on=['RFID','Year'])\n",
    "data_proba = data_proba.drop(['RFID','Year'], axis=1)\n",
    "data_proba.rename({'Output':'dataset1_outcome'}, axis='columns', inplace=True)\n",
    "data_proba.rename({'BreedingDate':'dataset1_breeding_date'}, axis='columns', inplace=True)\n",
    "\n",
    "data_proba = data_proba.merge(testing_dataset2, left_on=['rfid','year'], right_on=['RFID','Year'])\n",
    "data_proba = data_proba.drop(['RFID','Year'], axis=1)\n",
    "data_proba.rename({'Output':'dataset2_outcome'}, axis='columns', inplace=True)\n",
    "data_proba.rename({'BreedingDate':'dataset2_breeding_date'}, axis='columns', inplace=True)\n",
    "\n",
    "# print(data_proba)"
   ]
  },
  {
   "cell_type": "code",
   "execution_count": 11,
   "id": "73902d52-4397-40c1-a015-111286e4d595",
   "metadata": {},
   "outputs": [
    {
     "name": "stdout",
     "output_type": "stream",
     "text": [
      "[[183  39   0]\n",
      " [ 10 334  15]\n",
      " [  2  45 215]]\n",
      "[[158  63   1]\n",
      " [ 14 336   9]\n",
      " [  2  47 213]]\n",
      "[[164  30   1]\n",
      " [ 10 404   4]\n",
      " [  0  12 218]]\n"
     ]
    }
   ],
   "source": [
    "## Print of confusion matrices\n",
    "print(confusion_matrix(data_proba[\"pred_outcome\"], data_proba[\"dataset1_outcome\"], labels=[\"NB\", \"F\", \"S\"]))\n",
    "print(confusion_matrix(data_proba[\"pred_outcome\"], data_proba[\"dataset2_outcome\"], labels=[\"NB\", \"F\", \"S\"]))\n",
    "print(confusion_matrix(data_proba[\"dataset1_outcome\"], data_proba[\"dataset2_outcome\"], labels=[\"NB\", \"F\", \"S\"]))"
   ]
  },
  {
   "cell_type": "code",
   "execution_count": 12,
   "id": "a72ec8e8-93e9-4130-9cc3-a7bc2ced18b9",
   "metadata": {},
   "outputs": [
    {
     "name": "stdout",
     "output_type": "stream",
     "text": [
      "Global accuracy for compiled NB vs. F vs. S:\n",
      "Pred. vs. Dat. 1: 0.8683274021352313\n",
      "Pred. vs. Dat. 2: 0.8386714116251482\n",
      "Dat. 1 vs. Dat. 2: 0.9323843416370107\n"
     ]
    }
   ],
   "source": [
    "print('Global accuracy for compiled NB vs. F vs. S:')\n",
    "print(\"Pred. vs. Dat. 1: \" + str(sum(data_proba[\"pred_outcome\"] == data_proba[\"dataset1_outcome\"])/len(data_proba)))\n",
    "print(\"Pred. vs. Dat. 2: \" + str(sum(data_proba[\"pred_outcome\"] == data_proba[\"dataset2_outcome\"])/len(data_proba)))\n",
    "print(\"Dat. 1 vs. Dat. 2: \" + str(sum(data_proba[\"dataset1_outcome\"] == data_proba[\"dataset2_outcome\"])/len(data_proba)))"
   ]
  },
  {
   "cell_type": "code",
   "execution_count": 13,
   "id": "a01a6a1f-8fa4-4556-8031-e07d3b9f09b2",
   "metadata": {},
   "outputs": [
    {
     "name": "stdout",
     "output_type": "stream",
     "text": [
      "Global accuracy for compiled NB vs. B:\n",
      "Pred. vs. Dat. 1: 0.9395017793594306\n",
      "Pred. vs. Dat. 2: 0.9051008303677343\n",
      "Dat. 1 vs. Dat. 2: 0.9513641755634639\n"
     ]
    }
   ],
   "source": [
    "comparison_NB_B = []\n",
    "data_proba[\"dataset1_outcome_NB_B\"] = [\"B\" if x != \"NB\" else \"NB\" for x in data_proba[\"dataset1_outcome\"]]\n",
    "data_proba[\"dataset2_outcome_NB_B\"] = [\"B\" if x != \"NB\" else \"NB\" for x in data_proba[\"dataset2_outcome\"]]\n",
    "\n",
    "print('Global accuracy for compiled NB vs. B:')\n",
    "print(\"Pred. vs. Dat. 1: \" + str(sum(data_proba[\"pred_NB_B\"] == data_proba[\"dataset1_outcome_NB_B\"])/len(data_proba)))\n",
    "print(\"Pred. vs. Dat. 2: \" + str(sum(data_proba[\"pred_NB_B\"] == data_proba[\"dataset2_outcome_NB_B\"])/len(data_proba)))\n",
    "print(\"Dat. 1 vs. Dat. 2: \" + str(sum(data_proba[\"dataset1_outcome_NB_B\"] == data_proba[\"dataset2_outcome_NB_B\"])/len(data_proba)))"
   ]
  },
  {
   "cell_type": "code",
   "execution_count": 14,
   "id": "a3177d0b-fca4-44a1-8579-63c498259ed1",
   "metadata": {},
   "outputs": [
    {
     "name": "stdout",
     "output_type": "stream",
     "text": [
      "Global accuracy for compiled F vs. S:\n",
      "Pred. vs. Dat. 1: 0.9043887147335423\n",
      "Pred. vs. Dat. 2: 0.9106583072100314\n",
      "Dat. 1 vs. Dat. 2: 0.9749216300940439\n"
     ]
    }
   ],
   "source": [
    "data_comparison_SF = copy.copy(data_proba.loc[(data_proba[\"dataset1_outcome\"] != \"NB\") & (data_proba[\"dataset2_outcome\"] != \"NB\")])\n",
    "\n",
    "print('Global accuracy for compiled F vs. S:')\n",
    "print(\"Pred. vs. Dat. 1: \" + str(sum(data_comparison_SF[\"pred_S_F\"] == data_comparison_SF[\"dataset1_outcome\"])/len(data_comparison_SF)))\n",
    "print(\"Pred. vs. Dat. 2: \" + str(sum(data_comparison_SF[\"pred_S_F\"] == data_comparison_SF[\"dataset2_outcome\"])/len(data_comparison_SF)))\n",
    "print(\"Dat. 1 vs. Dat. 2: \" + str(sum(data_comparison_SF[\"dataset1_outcome\"] == data_comparison_SF[\"dataset2_outcome\"])/len(data_comparison_SF)))"
   ]
  }
 ],
 "metadata": {
  "kernelspec": {
   "display_name": "Python 3 (ipykernel)",
   "language": "python",
   "name": "python3"
  },
  "language_info": {
   "codemirror_mode": {
    "name": "ipython",
    "version": 3
   },
   "file_extension": ".py",
   "mimetype": "text/x-python",
   "name": "python",
   "nbconvert_exporter": "python",
   "pygments_lexer": "ipython3",
   "version": "3.9.7"
  }
 },
 "nbformat": 4,
 "nbformat_minor": 5
}
